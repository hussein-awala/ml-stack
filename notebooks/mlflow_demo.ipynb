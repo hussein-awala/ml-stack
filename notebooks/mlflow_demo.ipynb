{
 "cells": [
  {
   "cell_type": "code",
   "execution_count": 1,
   "id": "82cae95d-0eee-4e3b-b3d1-d28b97672f74",
   "metadata": {},
   "outputs": [],
   "source": [
    "!pip -q install mlflow==1.27.0\n",
    "!pip -q install boto3"
   ]
  },
  {
   "cell_type": "code",
   "execution_count": 2,
   "id": "0d5c1df3-4ef7-4305-b447-8d4af629f456",
   "metadata": {},
   "outputs": [],
   "source": [
    "import os\n",
    "\n",
    "# export minio endpoint url, access and secret keys as env variables\n",
    "os.environ[\"MLFLOW_S3_ENDPOINT_URL\"] = \"http://minio:9000\"\n",
    "os.environ[\"AWS_ACCESS_KEY_ID\"] = \"minio_root\"\n",
    "os.environ[\"AWS_SECRET_ACCESS_KEY\"] = \"minio_pass\""
   ]
  },
  {
   "cell_type": "code",
   "execution_count": 3,
   "id": "fee6127b-c1e2-4f10-900b-8f427769a8fb",
   "metadata": {},
   "outputs": [
    {
     "name": "stderr",
     "output_type": "stream",
     "text": [
      "2022/07/29 23:39:08 INFO mlflow.tracking.fluent: Experiment with name 'ML stack demo experiment' does not exist. Creating a new experiment.\n"
     ]
    },
    {
     "data": {
      "text/plain": [
       "<Experiment: artifact_location='s3://mlflow_bucket/1', experiment_id='1', lifecycle_stage='active', name='ML stack demo experiment', tags={}>"
      ]
     },
     "execution_count": 3,
     "metadata": {},
     "output_type": "execute_result"
    }
   ],
   "source": [
    "import mlflow.sklearn\n",
    "from sklearn.ensemble import RandomForestRegressor\n",
    "\n",
    "mlflow.set_tracking_uri(\"http://mlflow-server:5000\")\n",
    "mlflow.set_experiment(\"ML stack demo experiment\")"
   ]
  },
  {
   "cell_type": "code",
   "execution_count": 4,
   "id": "6407866b-1488-4e4c-a5a8-f5d3cffeb7ea",
   "metadata": {},
   "outputs": [
    {
     "name": "stderr",
     "output_type": "stream",
     "text": [
      "/opt/conda/lib/python3.10/site-packages/_distutils_hack/__init__.py:33: UserWarning: Setuptools is replacing distutils.\n",
      "  warnings.warn(\"Setuptools is replacing distutils.\")\n"
     ]
    }
   ],
   "source": [
    "with mlflow.start_run() as run1:\n",
    "    params = {\"n_estimators\": 3, \"random_state\": 42}\n",
    "    rfr = RandomForestRegressor(**params).fit([[0, 1]], [1])\n",
    "    mlflow.log_params(params)\n",
    "    mlflow.sklearn.log_model(rfr, artifact_path='rfr_model')"
   ]
  },
  {
   "cell_type": "code",
   "execution_count": null,
   "id": "755e7859-ba49-4cf9-ae9f-cdc790bc19f9",
   "metadata": {},
   "outputs": [],
   "source": []
  }
 ],
 "metadata": {
  "kernelspec": {
   "display_name": "Python 3 (ipykernel)",
   "language": "python",
   "name": "python3"
  },
  "language_info": {
   "codemirror_mode": {
    "name": "ipython",
    "version": 3
   },
   "file_extension": ".py",
   "mimetype": "text/x-python",
   "name": "python",
   "nbconvert_exporter": "python",
   "pygments_lexer": "ipython3",
   "version": "3.10.5"
  }
 },
 "nbformat": 4,
 "nbformat_minor": 5
}
